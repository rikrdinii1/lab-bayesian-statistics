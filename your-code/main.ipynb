{
 "cells": [
  {
   "cell_type": "markdown",
   "metadata": {},
   "source": [
    "# Intro to Bayesian Statistics Lab\n",
    "\n",
    "Complete the following set of exercises to solidify your knowledge of Bayesian statistics and Bayesian data analysis."
   ]
  },
  {
   "cell_type": "code",
   "execution_count": 2,
   "metadata": {
    "ExecuteTime": {
     "end_time": "2021-01-30T01:59:30.691480Z",
     "start_time": "2021-01-30T01:59:25.415059Z"
    }
   },
   "outputs": [],
   "source": [
    "import pandas as pd\n",
    "import numpy as np\n",
    "import matplotlib.pyplot as plt"
   ]
  },
  {
   "cell_type": "markdown",
   "metadata": {},
   "source": [
    "## 1. Cookie Problem\n",
    "\n",
    "Suppose we have two bowls of cookies. Bowl 1 contains 30 vanilla cookies and 10 chocolate cookies. Bowl 2 contains 20 of each. You randomly pick one cookie out of one of the bowls, and it is vanilla. Use Bayes Theorem to calculate the probability that the vanilla cookie you picked came from Bowl 1?"
   ]
  },
  {
   "cell_type": "code",
   "execution_count": 3,
   "metadata": {
    "ExecuteTime": {
     "end_time": "2021-01-30T01:59:30.707503Z",
     "start_time": "2021-01-30T01:59:30.696488Z"
    }
   },
   "outputs": [],
   "source": [
    "def bayes(priors, likelihoods):\n",
    "    marginal = sum(np.multiply(priors, likelihoods))\n",
    "    num = np.multiply(priors, likelihoods)\n",
    "    posteriori = np.divide(num, marginal)\n",
    "    return posteriori"
   ]
  },
  {
   "cell_type": "code",
   "execution_count": 4,
   "metadata": {
    "ExecuteTime": {
     "end_time": "2021-01-30T01:59:30.785512Z",
     "start_time": "2021-01-30T01:59:30.718496Z"
    }
   },
   "outputs": [
    {
     "name": "stdout",
     "output_type": "stream",
     "text": [
      "La probabilidad de que tenemos de que la galleta haya salido del Bowl 1 es de: 0.6\n"
     ]
    }
   ],
   "source": [
    "# Orden: Vainilla, Chocolate, Bowl1, Bowl2\n",
    "Bowl_1_cookies =[30,10]\n",
    "Bowl_2_cookies = [20,20]\n",
    "\n",
    "# Primero sacamos las probabilidades de cada una de las galletas por cada una de las cajas\n",
    "Bowl_1_cookies_proba = [sabor/sum(Bowl_1_cookies) for sabor in Bowl_1_cookies]\n",
    "Bowl_2_cookies_proba =[sabor/sum(Bowl_1_cookies) for sabor in Bowl_2_cookies]\n",
    "\n",
    "# Probabilidades de los sabores:\n",
    "Vainilla = [Bowl_1_cookies_proba[0],Bowl_2_cookies_proba[0]]\n",
    "Chocolate = [Bowl_1_cookies_proba[1],Bowl_2_cookies_proba[1]]\n",
    "\n",
    "# Obtenemos las probabilidades de que saquemos de una caja o de otra\n",
    "Proba_por_caja = [1/2,1/2]\n",
    "\n",
    "# Usando la funcion de la clase, colocamos primero las probabilidades de las cajas y despúes las probabilidades\n",
    "# de las galletas de Vainilla por cada caja\n",
    "probabilidad_v = bayes(Proba_por_caja,Vainilla)\n",
    "print('La probabilidad de que tenemos de que la galleta haya salido del Bowl 1 es de:',probabilidad_v[0])"
   ]
  },
  {
   "cell_type": "markdown",
   "metadata": {},
   "source": [
    "What is the probability that it came from Bowl 2?"
   ]
  },
  {
   "cell_type": "code",
   "execution_count": 5,
   "metadata": {
    "ExecuteTime": {
     "end_time": "2021-01-30T01:59:30.823521Z",
     "start_time": "2021-01-30T01:59:30.791511Z"
    }
   },
   "outputs": [
    {
     "name": "stdout",
     "output_type": "stream",
     "text": [
      "La probabilidad que tenemos de que la galleta haya salido del Bowl 2 es de: 0.4\n"
     ]
    }
   ],
   "source": [
    "print('La probabilidad que tenemos de que la galleta haya salido del Bowl 2 es de:',probabilidad_v[1])"
   ]
  },
  {
   "cell_type": "markdown",
   "metadata": {},
   "source": [
    "What if the cookie you had picked was chocolate? What are the probabilities that the chocolate cookie came from Bowl 1 and Bowl 2 respectively?"
   ]
  },
  {
   "cell_type": "code",
   "execution_count": 6,
   "metadata": {
    "ExecuteTime": {
     "end_time": "2021-01-30T01:59:30.911543Z",
     "start_time": "2021-01-30T01:59:30.832525Z"
    }
   },
   "outputs": [
    {
     "name": "stdout",
     "output_type": "stream",
     "text": [
      "La probabilidad que tenemos de que la galleta haya salido del Bowl 1 es de: 0.3333333333333333\n",
      "La probabilidad que tenemos de que la galleta haya salido del Bowl 2 es de: 0.6666666666666666\n"
     ]
    }
   ],
   "source": [
    "probabilidad_ch = bayes(Proba_por_caja,Chocolate)\n",
    "print('La probabilidad que tenemos de que la galleta haya salido del Bowl 1 es de:',probabilidad_ch[0])\n",
    "print('La probabilidad que tenemos de que la galleta haya salido del Bowl 2 es de:',probabilidad_ch[1])"
   ]
  },
  {
   "cell_type": "markdown",
   "metadata": {},
   "source": [
    "## 2. Candy Problem\n",
    "\n",
    "Suppose you have two bags of candies:\n",
    "\n",
    "- In Bag 1, the mix of colors is:\n",
    "    - Brown - 30%\n",
    "    - Yellow - 20%\n",
    "    - Red - 20%\n",
    "    - Green - 10%\n",
    "    - Orange - 10%\n",
    "    - Tan - 10%\n",
    "    \n",
    "- In Bag 2, the mix of colors is:\n",
    "    - Blue - 24%\n",
    "    - Green - 20%\n",
    "    - Orange - 16%\n",
    "    - Yellow - 14%\n",
    "    - Red - 13%\n",
    "    - Brown - 13%\n",
    "    \n",
    "Not knowing which bag is which, you randomly draw one candy from each bag. One is yellow and one is green. What is the probability that the yellow one came from the Bag 1?\n",
    "\n",
    "*Hint: For the likelihoods, you will need to multiply the probabilities of drawing yellow from one bag and green from the other bag and vice versa.*"
   ]
  },
  {
   "cell_type": "code",
   "execution_count": 7,
   "metadata": {
    "ExecuteTime": {
     "end_time": "2021-01-30T01:59:30.975559Z",
     "start_time": "2021-01-30T01:59:30.923547Z"
    }
   },
   "outputs": [
    {
     "name": "stdout",
     "output_type": "stream",
     "text": [
      "Probabilidad de amarillo en la bosa 1 es: 0.7407\n"
     ]
    }
   ],
   "source": [
    "# Orden: bolsa1, bolsa2\n",
    "proba_bolsa = [1/2,1/2]\n",
    "amarillo = [0.20,0.14]\n",
    "verde = [0.10,0.20]\n",
    "\n",
    "amarillo_x_verde = [0.20*0.20 , 0.14*0.1] # proba de que el amarillo salga de bolsa 1 * proba de que verde salga de la 2 y que amarillo salga de bolsa 2 y verde de la 1\n",
    "\n",
    "probabilidad_amarillo = bayes(proba_bolsa, amarillo_x_verde)\n",
    "print('Probabilidad de amarillo en la bosa 1 es:', round(probabilidad_amarillo[0],4))"
   ]
  },
  {
   "cell_type": "markdown",
   "metadata": {},
   "source": [
    "What is the probability that the yellow candy came from Bag 2?"
   ]
  },
  {
   "cell_type": "code",
   "execution_count": 8,
   "metadata": {
    "ExecuteTime": {
     "end_time": "2021-01-30T01:59:31.039577Z",
     "start_time": "2021-01-30T01:59:31.016574Z"
    }
   },
   "outputs": [
    {
     "name": "stdout",
     "output_type": "stream",
     "text": [
      "Probabilidad de amarillo en la bosa 2 es: 0.2593\n"
     ]
    }
   ],
   "source": [
    "print('Probabilidad de amarillo en la bosa 2 es:', round(probabilidad_amarillo[1],4))"
   ]
  },
  {
   "cell_type": "markdown",
   "metadata": {},
   "source": [
    "What are the probabilities that the green one came from Bag 1 and Bag 2 respectively?"
   ]
  },
  {
   "cell_type": "code",
   "execution_count": 9,
   "metadata": {
    "ExecuteTime": {
     "end_time": "2021-01-30T01:59:32.548191Z",
     "start_time": "2021-01-30T01:59:32.534184Z"
    }
   },
   "outputs": [
    {
     "name": "stdout",
     "output_type": "stream",
     "text": [
      "Probabilidad de verde en la bosa 1 es: 0.3333\n",
      "Probabilidad de verde en la bosa 2 es: 0.6667\n"
     ]
    }
   ],
   "source": [
    "probabilidad_verde = bayes(proba_bolsa, verde)\n",
    "print('Probabilidad de verde en la bosa 1 es:', round(probabilidad_verde[0],4))\n",
    "print('Probabilidad de verde en la bosa 2 es:', round(probabilidad_verde[1],4))"
   ]
  },
  {
   "cell_type": "markdown",
   "metadata": {},
   "source": [
    "## 3. Monty Hall Problem\n",
    "\n",
    "Suppose you are a contestant on the popular game show *Let's Make a Deal*. The host of the show (Monty Hall) presents you with three doors - Door A, Door B, and Door C. He tells you that there is a sports car behind one of them and if you choose the correct one, you win the car!\n",
    "\n",
    "You select Door A, but then Monty makes things a little more interesting. He opens Door B to reveal that there is no sports car behind it and asks you if you would like to stick with your choice of Door A or switch your choice to Door C. Given this new information, what are the probabilities of you winning the car if you stick with Door A versus if you switch to Door C?"
   ]
  },
  {
   "cell_type": "code",
   "execution_count": 11,
   "metadata": {
    "ExecuteTime": {
     "end_time": "2021-01-30T02:00:23.515411Z",
     "start_time": "2021-01-30T02:00:23.504408Z"
    }
   },
   "outputs": [
    {
     "name": "stdout",
     "output_type": "stream",
     "text": [
      "Probabilidad de ganar con la puerta A 0.3333333333333333.\n",
      "Probabiliad de ganar con la puerta C 0.6666666666666666.\n"
     ]
    }
   ],
   "source": [
    "#Following Information is available\n",
    "\"\"\"I select Door A\n",
    "Car: which door the car is behind (Car=A,B or C)\n",
    "H: which door Monty Hall opens(Monty Hall opens Door B)\n",
    "p(Car = A) = p(Car =B) = p(Car = C) = 1/3 #probability of hypothesis of getting a car is supposingly always 1/3 before I even start playing\n",
    "p(H=B | Car=A) = .5 #probabilities of Monty Hall opens Door B if car is behind A, B and C\n",
    "p(H=B | Car=B) = 0\n",
    "p(H=B | Car=C) = 1\n",
    "# Probabilities of me winning the car if I stick with Door A vs. if you switch to Door C\n",
    "p(Car=C | H=B)=?\n",
    "p(Car=A | H=B)=?\n",
    "\"\"\"\n",
    "priors=[1/3,1/3,1/3]     #p(Car = A) = p(Car =B) = p(Car = C) = 1/3\n",
    "likelihoods=[0.5,0,1]      #p(H=B | Car=A), p(H=B | Car=B),p(H=B | Car=C)\n",
    "posteriors=bayes(priors,likelihoods)\n",
    "#Probability of me winning the car if I stick with Door A\n",
    "print(f'Probabilidad de ganar con la puerta A {posteriors[0]}.')\n",
    "#Probability of me winning the car if I switch to Door C\n",
    "print(f'Probabiliad de ganar con la puerta C {posteriors[2]}.')"
   ]
  },
  {
   "cell_type": "markdown",
   "metadata": {},
   "source": [
    "## 4. Bayesian Analysis \n",
    "\n",
    "Suppose you work for a landscaping company, and they want to advertise their service online. They create an ad and sit back waiting for the money to roll in. On the first day, the ad sends 100 visitors to the site and 14 of them sign up for landscaping services. Create a generative model to come up with the posterior distribution and produce a visualization of what the posterior distribution would look like given the observed data."
   ]
  },
  {
   "cell_type": "code",
   "execution_count": 12,
   "metadata": {
    "ExecuteTime": {
     "end_time": "2021-01-30T02:00:29.687386Z",
     "start_time": "2021-01-30T02:00:29.583365Z"
    }
   },
   "outputs": [
    {
     "data": {
      "text/plain": [
       "[38, 30, 27, 31, 31, 23, 43, 40, 43, 38]"
      ]
     },
     "execution_count": 12,
     "metadata": {},
     "output_type": "execute_result"
    }
   ],
   "source": [
    "def generative_model(param):\n",
    "    # 50 bots\n",
    "    result = np.random.binomial(50, param)\n",
    "    return result\n",
    "\n",
    "visitantes = 100\n",
    "Registrados = 14\n",
    "\n",
    "prior = pd.Series(np.random.uniform(0,1, size=visitantes))\n",
    "\n",
    "regitrados = [generative_model(p) for p in prior]\n",
    "regitrados[:10]"
   ]
  },
  {
   "cell_type": "markdown",
   "metadata": {},
   "source": [
    "Produce a set of descriptive statistics for the posterior distribution."
   ]
  },
  {
   "cell_type": "code",
   "execution_count": 13,
   "metadata": {
    "ExecuteTime": {
     "end_time": "2021-01-30T02:00:30.383399Z",
     "start_time": "2021-01-30T02:00:30.374395Z"
    }
   },
   "outputs": [],
   "source": [
    "posterior = prior[list(map(lambda x: x == 20, regitrados))]"
   ]
  },
  {
   "cell_type": "markdown",
   "metadata": {},
   "source": [
    "What is the 90% credible interval range?"
   ]
  },
  {
   "cell_type": "code",
   "execution_count": 14,
   "metadata": {
    "ExecuteTime": {
     "end_time": "2021-01-30T02:00:32.403998Z",
     "start_time": "2021-01-30T02:00:31.550384Z"
    }
   },
   "outputs": [
    {
     "data": {
      "image/png": "[encoded data removed]",
      "text/plain": [
       "<Figure size 432x288 with 1 Axes>"
      ]
     },
     "metadata": {
      "needs_background": "light"
     },
     "output_type": "display_data"
    }
   ],
   "source": [
    "posterior.hist();"
   ]
  },
  {
   "cell_type": "markdown",
   "metadata": {},
   "source": [
    "What is the Maximum Likelihood Estimate?"
   ]
  },
  {
   "cell_type": "code",
   "execution_count": 15,
   "metadata": {
    "ExecuteTime": {
     "end_time": "2021-01-30T02:00:34.547395Z",
     "start_time": "2021-01-30T02:00:34.526391Z"
    }
   },
   "outputs": [
    {
     "data": {
      "text/plain": [
       "0.3928981742722333"
      ]
     },
     "execution_count": 15,
     "metadata": {},
     "output_type": "execute_result"
    }
   ],
   "source": [
    "posterior.max()"
   ]
  },
  {
   "cell_type": "code",
   "execution_count": null,
   "metadata": {},
   "outputs": [],
   "source": []
  }
 ],
 "metadata": {
  "kernelspec": {
   "display_name": "Python 3",
   "language": "python",
   "name": "python3"
  },
  "language_info": {
   "codemirror_mode": {
    "name": "ipython",
    "version": 3
   },
   "file_extension": ".py",
   "mimetype": "text/x-python",
   "name": "python",
   "nbconvert_exporter": "python",
   "pygments_lexer": "ipython3",
   "version": "3.8.5"
  },
  "toc": {
   "base_numbering": 1,
   "nav_menu": {},
   "number_sections": true,
   "sideBar": true,
   "skip_h1_title": false,
   "title_cell": "Table of Contents",
   "title_sidebar": "Contents",
   "toc_cell": false,
   "toc_position": {},
   "toc_section_display": true,
   "toc_window_display": false
  }
 },
 "nbformat": 4,
 "nbformat_minor": 2
}
